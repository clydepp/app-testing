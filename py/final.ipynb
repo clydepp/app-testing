{
 "cells": [
  {
   "cell_type": "code",
   "execution_count": null,
   "id": "51dcaf41",
   "metadata": {},
   "outputs": [
    {
     "data": {
      "application/javascript": "\ntry {\nrequire(['notebook/js/codecell'], function(codecell) {\n  codecell.CodeCell.options_default.highlight_modes[\n      'magic_text/x-csrc'] = {'reg':[/^%%microblaze/]};\n  Jupyter.notebook.events.one('kernel_ready.Kernel', function(){\n      Jupyter.notebook.get_cells().map(function(cell){\n          if (cell.cell_type == 'code'){ cell.auto_highlight(); } }) ;\n  });\n});\n} catch (e) {};\n"
     },
     "metadata": {},
     "output_type": "display_data"
    },
    {
     "data": {
      "application/javascript": "\ntry {\nrequire(['notebook/js/codecell'], function(codecell) {\n  codecell.CodeCell.options_default.highlight_modes[\n      'magic_text/x-csrc'] = {'reg':[/^%%pybind11/]};\n  Jupyter.notebook.events.one('kernel_ready.Kernel', function(){\n      Jupyter.notebook.get_cells().map(function(cell){\n          if (cell.cell_type == 'code'){ cell.auto_highlight(); } }) ;\n  });\n});\n} catch (e) {};\n"
     },
     "metadata": {},
     "output_type": "display_data"
    }
   ],
   "source": [
    "from pynq import Overlay\n",
    "from pynq.lib.video import *\n",
    "# from pynq import Clocks\n",
    "# Clocks.fclk3_mhz\n",
    "# Clocks.fclk3_mhz = 30.0\n",
    "\n",
    "# 1. Load the bitstream\n",
    "overlay = Overlay(\"/home/xilinx/5eng_2000.bit\")\n",
    "\n",
    "# Access your pixel_generator instance (assuming it's named 'pixel_generator' in your block design)\n",
    "# If your IP is named something like 'my_pixel_gen_0', you'd use that.\n",
    "# Check your block design's address map in Vivado to confirm the instance name.\n",
    "# For demonstration, let's assume it's overlay.pixel_generator_0\n",
    "# You might need to adjust this based on your Vivado block design.\n",
    "# A common pattern is overlay.<instance_name>\n",
    "# Given your comment pixgen.register_map.gp0 = 0x1234, it seems you already have a pixgen object.\n",
    "# Let's assume it's like this:\n",
    "pixgen = overlay.pixel_generator_0 # Adjust this line to match your actual IP instance name\n"
   ]
  },
  {
   "cell_type": "code",
   "execution_count": null,
   "id": "218bbfb9",
   "metadata": {},
   "outputs": [
    {
     "name": "stdout",
     "output_type": "stream",
     "text": [
      "4093640704\n",
      "26843546\n",
      "8\n"
     ]
    }
   ],
   "source": [
    "# 2. Define your parameters (example values - adjust as needed)\n",
    "# Ensure these match the Q-format / data types expected by your HDL\n",
    "# For example, ZOOM might be an integer, but REAL_CENTER/IMAG_CENTER are fixed-point.\n",
    "# You mentioned FRAC=28, so these are Q28 numbers.\n",
    "# Example values for Mandelbrot:\n",
    "def float_to_q4_28(fval):\n",
    "    qval = int(round(fval * (1 << 28)))\n",
    "    if qval < 0:\n",
    "        qval = (1 << 32) + qval\n",
    "    return qval\n",
    "\n",
    "max_iter_log = 8\n",
    "zoom = 0\n",
    "re_c_q = float_to_q4_28(-0.75)\n",
    "im_c_q = float_to_q4_28(0.1)\n",
    "\n",
    "print(re_c_q)\n",
    "print(im_c_q)\n",
    "print(max_iter_log)\n"
   ]
  },
  {
   "cell_type": "code",
   "execution_count": null,
   "id": "5c1f7002",
   "metadata": {},
   "outputs": [
    {
     "name": "stdout",
     "output_type": "stream",
     "text": [
      "Registers written: MAX_ITER=0x100, ZOOM=0x0, REAL_CENTER=0xf4000000, IMAG_CENTER=0x199999a\n"
     ]
    }
   ],
   "source": [
    "# 3. Write parameters to the registers\n",
    "# Assuming regfile[0] is MAX_ITER, regfile[2] is ZOOM, regfile[3] is REAL_CENTER, regfile[4] is IMAG_CENTER\n",
    "max_iter = 2 ** max_iter_log\n",
    "pixgen.register_map.gp0 = max_iter\n",
    "pixgen.register_map.gp1 = max_iter_log\n",
    "pixgen.register_map.gp2 = zoom\n",
    "pixgen.register_map.gp3 = re_c_q   \n",
    "pixgen.register_map.gp4 = im_c_q\n",
    "              \n",
    "\n",
    "print(f\"Registers written: MAX_ITER={pixgen.register_map.gp0}, ZOOM={pixgen.register_map.gp2}, REAL_CENTER={pixgen.register_map.gp3}, IMAG_CENTER={pixgen.register_map.gp4}\")"
   ]
  },
  {
   "cell_type": "code",
   "execution_count": null,
   "id": "fa753712",
   "metadata": {},
   "outputs": [],
   "source": [
    "imgen_vdma = overlay.video.axi_vdma_0.readchannel"
   ]
  },
  {
   "cell_type": "code",
   "execution_count": null,
   "id": "f8386635",
   "metadata": {},
   "outputs": [],
   "source": [
    "# 4. Initialize and start VDMA read channel\n",
    "videoMode = common.VideoMode(2000, 2000, 24) # Assuming 24-bit output (RGB888)\n",
    "imgen_vdma.mode = videoMode\n",
    "imgen_vdma.start()"
   ]
  },
  {
   "cell_type": "code",
   "execution_count": null,
   "id": "3e04e88c",
   "metadata": {},
   "outputs": [
    {
     "ename": "KeyboardInterrupt",
     "evalue": "",
     "output_type": "error",
     "traceback": [
      "\u001b[0;31m---------------------------------------------------------------------------\u001b[0m\n",
      "\u001b[0;31mKeyboardInterrupt\u001b[0m                         Traceback (most recent call last)\n",
      "Input \u001b[0;32mIn [89]\u001b[0m, in \u001b[0;36m<cell line: 1>\u001b[0;34m()\u001b[0m\n",
      "\u001b[0;32m----> 1\u001b[0m frame \u001b[38;5;241m=\u001b[39m \u001b[43mimgen_vdma\u001b[49m\u001b[38;5;241;43m.\u001b[39;49m\u001b[43mreadframe\u001b[49m\u001b[43m(\u001b[49m\u001b[43m)\u001b[49m\n",
      "\n",
      "File \u001b[0;32m/usr/local/share/pynq-venv/lib/python3.10/site-packages/pynq/lib/video/dma.py:184\u001b[0m, in \u001b[0;36mAxiVDMA.S2MMChannel.readframe\u001b[0;34m(self)\u001b[0m\n",
      "\u001b[1;32m    182\u001b[0m \u001b[38;5;28;01mwhile\u001b[39;00m \u001b[38;5;28mself\u001b[39m\u001b[38;5;241m.\u001b[39m_mmio\u001b[38;5;241m.\u001b[39mread(\u001b[38;5;241m0x34\u001b[39m) \u001b[38;5;241m&\u001b[39m \u001b[38;5;241m0x1000\u001b[39m \u001b[38;5;241m==\u001b[39m \u001b[38;5;241m0\u001b[39m:\n",
      "\u001b[1;32m    183\u001b[0m     loop \u001b[38;5;241m=\u001b[39m asyncio\u001b[38;5;241m.\u001b[39mget_event_loop()\n",
      "\u001b[0;32m--> 184\u001b[0m     \u001b[43mloop\u001b[49m\u001b[38;5;241;43m.\u001b[39;49m\u001b[43mrun_until_complete\u001b[49m\u001b[43m(\u001b[49m\u001b[43masyncio\u001b[49m\u001b[38;5;241;43m.\u001b[39;49m\u001b[43mensure_future\u001b[49m\u001b[43m(\u001b[49m\u001b[38;5;28;43mself\u001b[39;49m\u001b[38;5;241;43m.\u001b[39;49m\u001b[43m_interrupt\u001b[49m\u001b[38;5;241;43m.\u001b[39;49m\u001b[43mwait\u001b[49m\u001b[43m(\u001b[49m\u001b[43m)\u001b[49m\u001b[43m)\u001b[49m\u001b[43m)\u001b[49m\n",
      "\u001b[1;32m    185\u001b[0m     \u001b[38;5;28;01mpass\u001b[39;00m\n",
      "\u001b[1;32m    186\u001b[0m \u001b[38;5;28mself\u001b[39m\u001b[38;5;241m.\u001b[39m_mmio\u001b[38;5;241m.\u001b[39mwrite(\u001b[38;5;241m0x34\u001b[39m, \u001b[38;5;241m0x1000\u001b[39m)\n",
      "\n",
      "File \u001b[0;32m/usr/local/share/pynq-venv/lib/python3.10/site-packages/nest_asyncio.py:83\u001b[0m, in \u001b[0;36m_patch_loop.<locals>.run_until_complete\u001b[0;34m(self, future)\u001b[0m\n",
      "\u001b[1;32m     81\u001b[0m     f\u001b[38;5;241m.\u001b[39m_log_destroy_pending \u001b[38;5;241m=\u001b[39m \u001b[38;5;28;01mFalse\u001b[39;00m\n",
      "\u001b[1;32m     82\u001b[0m \u001b[38;5;28;01mwhile\u001b[39;00m \u001b[38;5;129;01mnot\u001b[39;00m f\u001b[38;5;241m.\u001b[39mdone():\n",
      "\u001b[0;32m---> 83\u001b[0m     \u001b[38;5;28;43mself\u001b[39;49m\u001b[38;5;241;43m.\u001b[39;49m\u001b[43m_run_once\u001b[49m\u001b[43m(\u001b[49m\u001b[43m)\u001b[49m\n",
      "\u001b[1;32m     84\u001b[0m     \u001b[38;5;28;01mif\u001b[39;00m \u001b[38;5;28mself\u001b[39m\u001b[38;5;241m.\u001b[39m_stopping:\n",
      "\u001b[1;32m     85\u001b[0m         \u001b[38;5;28;01mbreak\u001b[39;00m\n",
      "\n",
      "File \u001b[0;32m/usr/local/share/pynq-venv/lib/python3.10/site-packages/nest_asyncio.py:106\u001b[0m, in \u001b[0;36m_patch_loop.<locals>._run_once\u001b[0;34m(self)\u001b[0m\n",
      "\u001b[1;32m     99\u001b[0m     heappop(scheduled)\n",
      "\u001b[1;32m    101\u001b[0m timeout \u001b[38;5;241m=\u001b[39m (\n",
      "\u001b[1;32m    102\u001b[0m     \u001b[38;5;241m0\u001b[39m \u001b[38;5;28;01mif\u001b[39;00m ready \u001b[38;5;129;01mor\u001b[39;00m \u001b[38;5;28mself\u001b[39m\u001b[38;5;241m.\u001b[39m_stopping\n",
      "\u001b[1;32m    103\u001b[0m     \u001b[38;5;28;01melse\u001b[39;00m \u001b[38;5;28mmin\u001b[39m(\u001b[38;5;28mmax\u001b[39m(\n",
      "\u001b[1;32m    104\u001b[0m         scheduled[\u001b[38;5;241m0\u001b[39m]\u001b[38;5;241m.\u001b[39m_when \u001b[38;5;241m-\u001b[39m \u001b[38;5;28mself\u001b[39m\u001b[38;5;241m.\u001b[39mtime(), \u001b[38;5;241m0\u001b[39m), \u001b[38;5;241m86400\u001b[39m) \u001b[38;5;28;01mif\u001b[39;00m scheduled\n",
      "\u001b[1;32m    105\u001b[0m     \u001b[38;5;28;01melse\u001b[39;00m \u001b[38;5;28;01mNone\u001b[39;00m)\n",
      "\u001b[0;32m--> 106\u001b[0m event_list \u001b[38;5;241m=\u001b[39m \u001b[38;5;28;43mself\u001b[39;49m\u001b[38;5;241;43m.\u001b[39;49m\u001b[43m_selector\u001b[49m\u001b[38;5;241;43m.\u001b[39;49m\u001b[43mselect\u001b[49m\u001b[43m(\u001b[49m\u001b[43mtimeout\u001b[49m\u001b[43m)\u001b[49m\n",
      "\u001b[1;32m    107\u001b[0m \u001b[38;5;28mself\u001b[39m\u001b[38;5;241m.\u001b[39m_process_events(event_list)\n",
      "\u001b[1;32m    109\u001b[0m end_time \u001b[38;5;241m=\u001b[39m \u001b[38;5;28mself\u001b[39m\u001b[38;5;241m.\u001b[39mtime() \u001b[38;5;241m+\u001b[39m \u001b[38;5;28mself\u001b[39m\u001b[38;5;241m.\u001b[39m_clock_resolution\n",
      "\n",
      "File \u001b[0;32m/usr/lib/python3.10/selectors.py:469\u001b[0m, in \u001b[0;36mEpollSelector.select\u001b[0;34m(self, timeout)\u001b[0m\n",
      "\u001b[1;32m    467\u001b[0m ready \u001b[38;5;241m=\u001b[39m []\n",
      "\u001b[1;32m    468\u001b[0m \u001b[38;5;28;01mtry\u001b[39;00m:\n",
      "\u001b[0;32m--> 469\u001b[0m     fd_event_list \u001b[38;5;241m=\u001b[39m \u001b[38;5;28;43mself\u001b[39;49m\u001b[38;5;241;43m.\u001b[39;49m\u001b[43m_selector\u001b[49m\u001b[38;5;241;43m.\u001b[39;49m\u001b[43mpoll\u001b[49m\u001b[43m(\u001b[49m\u001b[43mtimeout\u001b[49m\u001b[43m,\u001b[49m\u001b[43m \u001b[49m\u001b[43mmax_ev\u001b[49m\u001b[43m)\u001b[49m\n",
      "\u001b[1;32m    470\u001b[0m \u001b[38;5;28;01mexcept\u001b[39;00m \u001b[38;5;167;01mInterruptedError\u001b[39;00m:\n",
      "\u001b[1;32m    471\u001b[0m     \u001b[38;5;28;01mreturn\u001b[39;00m ready\n",
      "\n",
      "\u001b[0;31mKeyboardInterrupt\u001b[0m: "
     ]
    }
   ],
   "source": [
    "frame = imgen_vdma.readframe()\n",
    "\n"
   ]
  },
  {
   "cell_type": "code",
   "execution_count": null,
   "id": "8c128201",
   "metadata": {},
   "outputs": [
    {
     "name": "stdout",
     "output_type": "stream",
     "text": [
      "Starting benchmark for 100 frames...\n",
      "\n",
      "--- Benchmark Complete ---\n",
      "\n",
      "Average time per frame (100 iterations): 0.000408 seconds\n"
     ]
    }
   ],
   "source": [
    "import time\n",
    "num_iterations = 100  # Number of frames to capture\n",
    "iteration_times = []  # To store the time for each iteration\n",
    "start_time = time.perf_counter()\n",
    "print(f\"Starting benchmark for {num_iterations} frames...\")\n",
    "\n",
    "# for i in range(num_iterations):\n",
    "#     print(f\"\\n--- Iteration {i+1}/{num_iterations} ---\")\n",
    "\n",
    "    # --- Start of benchmarking for this iteration ---\n",
    "#     \n",
    "\n",
    "frame = imgen_vdma.readframe() # Your actual function call here\n",
    "\n",
    "    \n",
    "    # --- End of benchmarking for this iteration ---\n",
    "\n",
    "    \n",
    "#     iteration_times.append(elapsed_time)\n",
    "\n",
    "#     print(f\"Frame {i+1} read\")\n",
    "    # You can optionally print information about the frame if needed\n",
    "    # print(f\"Frame data (first 20 chars): {str(frame)[:20]}...\")\n",
    "#     time.sleep(0.8)\n",
    "end_time = time.perf_counter()\n",
    "elapsed_time = end_time - start_time\n",
    "print(\"\\n--- Benchmark Complete ---\")\n",
    "\n",
    "# Calculate the average time\n",
    "if num_iterations: # Ensure there were iterations to avoid division by zero\n",
    "    average_time = elapsed_time / num_iterations\n",
    "    print(f\"\\nAverage time per frame ({num_iterations} iterations): {average_time:.6f} seconds\")\n",
    "else:\n",
    "    print(\"No iterations were performed.\")"
   ]
  },
  {
   "cell_type": "code",
   "execution_count": null,
   "id": "8b07034b",
   "metadata": {},
   "outputs": [
    {
     "name": "stdout",
     "output_type": "stream",
     "text": [
      "\n",
      "Average time per frame (100 iterations): 1.006347 seconds\n"
     ]
    }
   ],
   "source": [
    "if num_iterations: # Ensure there were iterations to avoid division by zero\n",
    "    average_time = elapsed_time / num_iterations\n",
    "    print(f\"\\nAverage time per frame ({num_iterations} iterations): {average_time:.6f} seconds\")\n",
    "else:\n",
    "    print(\"No iterations were performed.\")"
   ]
  },
  {
   "cell_type": "code",
   "execution_count": null,
   "id": "c13d2aff",
   "metadata": {},
   "outputs": [
    {
     "ename": "KeyboardInterrupt",
     "evalue": "",
     "output_type": "error",
     "traceback": [
      "\u001b[0;31m---------------------------------------------------------------------------\u001b[0m\n",
      "\u001b[0;31mKeyboardInterrupt\u001b[0m                         Traceback (most recent call last)\n",
      "Input \u001b[0;32mIn [81]\u001b[0m, in \u001b[0;36m<cell line: 9>\u001b[0;34m()\u001b[0m\n",
      "\u001b[1;32m      9\u001b[0m \u001b[38;5;28;01mfor\u001b[39;00m i \u001b[38;5;129;01min\u001b[39;00m \u001b[38;5;28mrange\u001b[39m(runs):\n",
      "\u001b[1;32m     10\u001b[0m     t_start \u001b[38;5;241m=\u001b[39m time\u001b[38;5;241m.\u001b[39mperf_counter_ns()\n",
      "\u001b[0;32m---> 11\u001b[0m     frame \u001b[38;5;241m=\u001b[39m \u001b[43mimgen_vdma\u001b[49m\u001b[38;5;241;43m.\u001b[39;49m\u001b[43mreadframe\u001b[49m\u001b[43m(\u001b[49m\u001b[43m)\u001b[49m\n",
      "\u001b[1;32m     12\u001b[0m     t_end \u001b[38;5;241m=\u001b[39m time\u001b[38;5;241m.\u001b[39mperf_counter_ns()\n",
      "\u001b[1;32m     13\u001b[0m     run_time \u001b[38;5;241m+\u001b[39m\u001b[38;5;241m=\u001b[39m t_end \u001b[38;5;241m-\u001b[39m t_start\n",
      "\n",
      "File \u001b[0;32m/usr/local/share/pynq-venv/lib/python3.10/site-packages/pynq/lib/video/dma.py:184\u001b[0m, in \u001b[0;36mAxiVDMA.S2MMChannel.readframe\u001b[0;34m(self)\u001b[0m\n",
      "\u001b[1;32m    182\u001b[0m \u001b[38;5;28;01mwhile\u001b[39;00m \u001b[38;5;28mself\u001b[39m\u001b[38;5;241m.\u001b[39m_mmio\u001b[38;5;241m.\u001b[39mread(\u001b[38;5;241m0x34\u001b[39m) \u001b[38;5;241m&\u001b[39m \u001b[38;5;241m0x1000\u001b[39m \u001b[38;5;241m==\u001b[39m \u001b[38;5;241m0\u001b[39m:\n",
      "\u001b[1;32m    183\u001b[0m     loop \u001b[38;5;241m=\u001b[39m asyncio\u001b[38;5;241m.\u001b[39mget_event_loop()\n",
      "\u001b[0;32m--> 184\u001b[0m     \u001b[43mloop\u001b[49m\u001b[38;5;241;43m.\u001b[39;49m\u001b[43mrun_until_complete\u001b[49m\u001b[43m(\u001b[49m\u001b[43masyncio\u001b[49m\u001b[38;5;241;43m.\u001b[39;49m\u001b[43mensure_future\u001b[49m\u001b[43m(\u001b[49m\u001b[38;5;28;43mself\u001b[39;49m\u001b[38;5;241;43m.\u001b[39;49m\u001b[43m_interrupt\u001b[49m\u001b[38;5;241;43m.\u001b[39;49m\u001b[43mwait\u001b[49m\u001b[43m(\u001b[49m\u001b[43m)\u001b[49m\u001b[43m)\u001b[49m\u001b[43m)\u001b[49m\n",
      "\u001b[1;32m    185\u001b[0m     \u001b[38;5;28;01mpass\u001b[39;00m\n",
      "\u001b[1;32m    186\u001b[0m \u001b[38;5;28mself\u001b[39m\u001b[38;5;241m.\u001b[39m_mmio\u001b[38;5;241m.\u001b[39mwrite(\u001b[38;5;241m0x34\u001b[39m, \u001b[38;5;241m0x1000\u001b[39m)\n",
      "\n",
      "File \u001b[0;32m/usr/local/share/pynq-venv/lib/python3.10/site-packages/nest_asyncio.py:83\u001b[0m, in \u001b[0;36m_patch_loop.<locals>.run_until_complete\u001b[0;34m(self, future)\u001b[0m\n",
      "\u001b[1;32m     81\u001b[0m     f\u001b[38;5;241m.\u001b[39m_log_destroy_pending \u001b[38;5;241m=\u001b[39m \u001b[38;5;28;01mFalse\u001b[39;00m\n",
      "\u001b[1;32m     82\u001b[0m \u001b[38;5;28;01mwhile\u001b[39;00m \u001b[38;5;129;01mnot\u001b[39;00m f\u001b[38;5;241m.\u001b[39mdone():\n",
      "\u001b[0;32m---> 83\u001b[0m     \u001b[38;5;28;43mself\u001b[39;49m\u001b[38;5;241;43m.\u001b[39;49m\u001b[43m_run_once\u001b[49m\u001b[43m(\u001b[49m\u001b[43m)\u001b[49m\n",
      "\u001b[1;32m     84\u001b[0m     \u001b[38;5;28;01mif\u001b[39;00m \u001b[38;5;28mself\u001b[39m\u001b[38;5;241m.\u001b[39m_stopping:\n",
      "\u001b[1;32m     85\u001b[0m         \u001b[38;5;28;01mbreak\u001b[39;00m\n",
      "\n",
      "File \u001b[0;32m/usr/local/share/pynq-venv/lib/python3.10/site-packages/nest_asyncio.py:106\u001b[0m, in \u001b[0;36m_patch_loop.<locals>._run_once\u001b[0;34m(self)\u001b[0m\n",
      "\u001b[1;32m     99\u001b[0m     heappop(scheduled)\n",
      "\u001b[1;32m    101\u001b[0m timeout \u001b[38;5;241m=\u001b[39m (\n",
      "\u001b[1;32m    102\u001b[0m     \u001b[38;5;241m0\u001b[39m \u001b[38;5;28;01mif\u001b[39;00m ready \u001b[38;5;129;01mor\u001b[39;00m \u001b[38;5;28mself\u001b[39m\u001b[38;5;241m.\u001b[39m_stopping\n",
      "\u001b[1;32m    103\u001b[0m     \u001b[38;5;28;01melse\u001b[39;00m \u001b[38;5;28mmin\u001b[39m(\u001b[38;5;28mmax\u001b[39m(\n",
      "\u001b[1;32m    104\u001b[0m         scheduled[\u001b[38;5;241m0\u001b[39m]\u001b[38;5;241m.\u001b[39m_when \u001b[38;5;241m-\u001b[39m \u001b[38;5;28mself\u001b[39m\u001b[38;5;241m.\u001b[39mtime(), \u001b[38;5;241m0\u001b[39m), \u001b[38;5;241m86400\u001b[39m) \u001b[38;5;28;01mif\u001b[39;00m scheduled\n",
      "\u001b[1;32m    105\u001b[0m     \u001b[38;5;28;01melse\u001b[39;00m \u001b[38;5;28;01mNone\u001b[39;00m)\n",
      "\u001b[0;32m--> 106\u001b[0m event_list \u001b[38;5;241m=\u001b[39m \u001b[38;5;28;43mself\u001b[39;49m\u001b[38;5;241;43m.\u001b[39;49m\u001b[43m_selector\u001b[49m\u001b[38;5;241;43m.\u001b[39;49m\u001b[43mselect\u001b[49m\u001b[43m(\u001b[49m\u001b[43mtimeout\u001b[49m\u001b[43m)\u001b[49m\n",
      "\u001b[1;32m    107\u001b[0m \u001b[38;5;28mself\u001b[39m\u001b[38;5;241m.\u001b[39m_process_events(event_list)\n",
      "\u001b[1;32m    109\u001b[0m end_time \u001b[38;5;241m=\u001b[39m \u001b[38;5;28mself\u001b[39m\u001b[38;5;241m.\u001b[39mtime() \u001b[38;5;241m+\u001b[39m \u001b[38;5;28mself\u001b[39m\u001b[38;5;241m.\u001b[39m_clock_resolution\n",
      "\n",
      "File \u001b[0;32m/usr/lib/python3.10/selectors.py:469\u001b[0m, in \u001b[0;36mEpollSelector.select\u001b[0;34m(self, timeout)\u001b[0m\n",
      "\u001b[1;32m    467\u001b[0m ready \u001b[38;5;241m=\u001b[39m []\n",
      "\u001b[1;32m    468\u001b[0m \u001b[38;5;28;01mtry\u001b[39;00m:\n",
      "\u001b[0;32m--> 469\u001b[0m     fd_event_list \u001b[38;5;241m=\u001b[39m \u001b[38;5;28;43mself\u001b[39;49m\u001b[38;5;241;43m.\u001b[39;49m\u001b[43m_selector\u001b[49m\u001b[38;5;241;43m.\u001b[39;49m\u001b[43mpoll\u001b[49m\u001b[43m(\u001b[49m\u001b[43mtimeout\u001b[49m\u001b[43m,\u001b[49m\u001b[43m \u001b[49m\u001b[43mmax_ev\u001b[49m\u001b[43m)\u001b[49m\n",
      "\u001b[1;32m    470\u001b[0m \u001b[38;5;28;01mexcept\u001b[39;00m \u001b[38;5;167;01mInterruptedError\u001b[39;00m:\n",
      "\u001b[1;32m    471\u001b[0m     \u001b[38;5;28;01mreturn\u001b[39;00m ready\n",
      "\n",
      "\u001b[0;31mKeyboardInterrupt\u001b[0m: "
     ]
    }
   ],
   "source": [
    "# Flush frames\n",
    "import time\n",
    "for i in range(3):\n",
    "     imgen_vdma.readframe()\n",
    "     time.sleep(1)\n",
    "runs = 10\n",
    "run_time = 0\n",
    " # Run benchmark\n",
    "for i in range(runs):\n",
    "    t_start = time.perf_counter_ns()\n",
    "    frame = imgen_vdma.readframe()\n",
    "    t_end = time.perf_counter_ns()\n",
    "    run_time += t_end - t_start\n",
    "avg_time = run_time / runs\n",
    "avg_time # In nanoseconds"
   ]
  },
  {
   "cell_type": "code",
   "execution_count": null,
   "id": "a581d6da",
   "metadata": {},
   "outputs": [],
   "source": [
    "# 7. Process and display the image\n",
    "import PIL.Image\n",
    "\n",
    "image = PIL.Image.fromarray(frame)\n",
    "image # Display the image in Jupyter"
   ]
  },
  {
   "cell_type": "code",
   "execution_count": null,
   "id": "1a8708d1",
   "metadata": {},
   "outputs": [],
   "source": [
    "imgen_vdma.stop()"
   ]
  },
  {
   "cell_type": "code",
   "execution_count": null,
   "id": "af0012b9",
   "metadata": {},
   "outputs": [],
   "source": [
    "from pynq import PL\n",
    "PL.reset()"
   ]
  },
  {
   "cell_type": "code",
   "execution_count": null,
   "id": "a440823a",
   "metadata": {},
   "outputs": [],
   "source": [
    "# FPGA side - corrected code\n",
    "import PIL.Image\n",
    "import numpy as np\n",
    "import asyncio\n",
    "import websockets \n",
    "\n",
    "frame = imgen_vdma.readframe()\n",
    "\n",
    "async def send_frame(frame):\n",
    "    try:\n",
    "        async with websockets.connect(\"ws://192.168.137.1:8002\") as websocket:\n",
    "            frame_bytes = frame.tobytes()\n",
    "            await websocket.send(frame_bytes)\n",
    "            print(\"sent frame?\")\n",
    "    except Exception as e:\n",
    "        print(e)\n",
    "\n",
    "await send_frame(frame) "
   ]
  },
  {
   "cell_type": "code",
   "execution_count": null,
   "id": "fd7bef3a",
   "metadata": {},
   "outputs": [],
   "source": [
    "# Cell for receiving UI parameters\n",
    "import asyncio\n",
    "import websockets\n",
    "import json\n",
    "import numpy as np\n",
    "import PIL\n",
    "import time\n",
    "\n",
    "pixgen = overlay.pixel_generator_0\n",
    "\n",
    "async def handle_ui_parameters(websocket, path):\n",
    "    try:\n",
    "        async for message in websocket:\n",
    "            try:\n",
    "                params = json.loads(message)\n",
    "                print(params)\n",
    "                \n",
    "                # Update FPGA registers with new parameters\n",
    "                def float_to_q4_28(fval):\n",
    "                    qval = int(round(fval * (1 << 28)))\n",
    "                    if qval < 0:\n",
    "                        qval = (1 << 32) + qval\n",
    "                    return qval\n",
    "\n",
    "                # max_iter_log = 8\n",
    "                # zoom = 0\n",
    "                re_c_q = float_to_q4_28(params.get('re_c', -0.5))\n",
    "                im_c_q = float_to_q4_28(params.get('ie_c', -0.0))\n",
    "\n",
    "                max_iter_log = int(params.get('max_iter', 1))  # Need power of 2 for this\n",
    "                max_iter = 2 ** max_iter_log\n",
    "                pixgen.register_map.gp0 = max_iter\n",
    "                pixgen.register_map.gp1 = max_iter_log\n",
    "                pixgen.register_map.gp2 = int(params.get('zoom', 1))            \n",
    "                pixgen.register_map.gp3 = re_c_q   \n",
    "                pixgen.register_map.gp4 = im_c_q\n",
    "              \n",
    "                print(pixgen.register_map)\n",
    "                \n",
    "                time.sleep(0.8)\n",
    "                frame = imgen_vdma.readframe()\n",
    "                \n",
    "                send_frame(frame)\n",
    "                \n",
    "            except Exception as e:\n",
    "                print(f\"error: {e}\")\n",
    "                \n",
    "    except websockets.exceptions.ConnectionClosed:\n",
    "        print(\"disconnected ui\")\n",
    "\n",
    "# Start parameter server\n",
    "async def start_param_server():\n",
    "    async with websockets.serve(handle_ui_parameters, \"0.0.0.0\", 8080):\n",
    "        await asyncio.Future()\n",
    "\n",
    "# Run this once to start parameter server\n",
    "task = asyncio.create_task(start_param_server())\n",
    "print(\"✅ Server task created and running in background\")\n",
    "print(f\"Task: {task}\")"
   ]
  }
 ],
 "metadata": {
  "language_info": {
   "name": "python"
  }
 },
 "nbformat": 4,
 "nbformat_minor": 5
}
