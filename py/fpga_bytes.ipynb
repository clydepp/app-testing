{
 "cells": [
  {
   "cell_type": "code",
   "execution_count": null,
   "id": "1a9c9150",
   "metadata": {},
   "outputs": [],
   "source": [
    "# Clyde's part (sending frame to laptop for processing)\n",
    "\n",
    "from pynq import Overlay\n",
    "from pynq.lib.video import *\n",
    "\n",
    "overlay = Overlay(\"/home/xilinx/Overlay_1.bit\")"
   ]
  },
  {
   "cell_type": "code",
   "execution_count": null,
   "id": "d0283c45",
   "metadata": {},
   "outputs": [],
   "source": [
    "imgen_vdma = overlay.video.axi_vdma_0.readchannel"
   ]
  },
  {
   "cell_type": "code",
   "execution_count": null,
   "id": "cd26a4da",
   "metadata": {},
   "outputs": [],
   "source": [
    "videoMode = common.VideoMode(640, 480, 24)\n",
    "imgen_vdma.mode = videoMode\n",
    "imgen_vdma.start()"
   ]
  },
  {
   "cell_type": "code",
   "execution_count": null,
   "id": "51c1db82",
   "metadata": {},
   "outputs": [],
   "source": [
    "# read frame and pack it into bytes\n",
    "import PIL.Image\n",
    "import numpy as np\n",
    "from PIL import Image\n",
    "from websockets.sync.client import connect\n",
    "\n",
    "frame = imgen_vdma.readframe()\n",
    "image = PIL.Image.fromarray(frame)\n",
    "# hdmi_out.writeframe(frame)\n",
    "\n",
    "async def send_fram(frame):\n",
    "    with connect(\"ws://192.168.137.1:8000\") as websocket:\n",
    "        new = frame.tobytes()\n",
    "        await websocket.send(new)\n",
    "\n",
    "# this below to be done in laptop\n",
    "# recv = np.frombuffer(new, dtype=np.uint8).reshape((480,640,3))\n",
    "# print(recv)"
   ]
  }
 ],
 "metadata": {
  "language_info": {
   "name": "python"
  }
 },
 "nbformat": 4,
 "nbformat_minor": 5
}
